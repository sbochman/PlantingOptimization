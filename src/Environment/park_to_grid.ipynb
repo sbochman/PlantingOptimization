{
 "cells": [
  {
   "cell_type": "code",
   "execution_count": 15,
   "metadata": {},
   "outputs": [],
   "source": [
    "import numpy as np\n",
    "import matplotlib.pyplot as plt\n",
    "import matplotlib.image as mpimg\n",
    "from PIL import Image\n",
    "from scipy import stats\n",
    "from PIL import ImageDraw"
   ]
  },
  {
   "cell_type": "code",
   "execution_count": 16,
   "metadata": {},
   "outputs": [],
   "source": [
    "#load the sundial garden image\n",
    "img = mpimg.imread('edinburgh_park.png')"
   ]
  },
  {
   "cell_type": "code",
   "execution_count": 17,
   "metadata": {},
   "outputs": [],
   "source": [
    "image_path = 'edinburgh_park.png'\n",
    "image = Image.open(image_path) "
   ]
  },
  {
   "cell_type": "code",
   "execution_count": 6,
   "metadata": {},
   "outputs": [],
   "source": [
    "image.show()"
   ]
  },
  {
   "cell_type": "code",
   "execution_count": 18,
   "metadata": {},
   "outputs": [],
   "source": [
    "gray_image = image.convert('L') #grayscale the image\n",
    "gray_image.show()"
   ]
  },
  {
   "cell_type": "code",
   "execution_count": 19,
   "metadata": {},
   "outputs": [
    {
     "name": "stdout",
     "output_type": "stream",
     "text": [
      "(607, 1013)\n"
     ]
    }
   ],
   "source": [
    "gray_array = np.array(gray_image)\n",
    "print(gray_array.shape) #print shape"
   ]
  },
  {
   "cell_type": "code",
   "execution_count": 20,
   "metadata": {},
   "outputs": [
    {
     "name": "stdout",
     "output_type": "stream",
     "text": [
      "23358\n"
     ]
    }
   ],
   "source": [
    "#num cells with value of 0\n",
    "num_zeros = np.sum(gray_array == 0)\n",
    "print(num_zeros // 10)"
   ]
  },
  {
   "cell_type": "code",
   "execution_count": 21,
   "metadata": {},
   "outputs": [],
   "source": [
    "def majority_value(square):\n",
    "    \"\"\"\n",
    "    determine the majority value in a square of 5x5 cells (pixels)\n",
    "    \"\"\"\n",
    "    mode_val = stats.mode(square.flatten(), axis=None)[0]\n",
    "    return mode_val"
   ]
  },
  {
   "cell_type": "code",
   "execution_count": 22,
   "metadata": {},
   "outputs": [],
   "source": [
    "def image_to_grid(image_path, block_size=5):\n",
    "    \"\"\"\n",
    "    Convert an image to a grid of majority values in blocks of a given size.\n",
    "\n",
    "    Args:\n",
    "        image_path (str): The path to the image file.\n",
    "        block_size (int): The size of the blocks for the majority calculation.\n",
    "        return: grid\n",
    "    \"\"\"\n",
    "     # Load the image and convert to grayscale\n",
    "    image = Image.open(image_path).convert('L')\n",
    "    image_array = np.array(image)\n",
    "    \n",
    "    # Calculate the size of the new grid\n",
    "    new_width = image_array.shape[1] // block_size\n",
    "    new_height = image_array.shape[0] // block_size\n",
    "    \n",
    "    # Create an empty array for the new grid\n",
    "    grid = np.zeros((new_height, new_width), dtype=np.uint8)\n",
    "    \n",
    "    # Process the image in blocks\n",
    "    for i in range(0, image_array.shape[0], block_size):\n",
    "        for j in range(0, image_array.shape[1], block_size):\n",
    "            # Extract the block\n",
    "            block = image_array[i:i+block_size, j:j+block_size]\n",
    "            \n",
    "            # Check if the block is smaller than the expected size (at edges)\n",
    "            if block.shape[0] == block_size and block.shape[1] == block_size:\n",
    "                # Find the majority value in the block and assign it to the grid cell\n",
    "                grid[i//block_size, j//block_size] = majority_value(block)\n",
    "    \n",
    "    return grid"
   ]
  },
  {
   "cell_type": "code",
   "execution_count": 23,
   "metadata": {},
   "outputs": [
    {
     "name": "stdout",
     "output_type": "stream",
     "text": [
      "[[255 255 255 ... 255 255 255]\n",
      " [255 255 255 ... 255 255 255]\n",
      " [255 255 255 ... 255 255 255]\n",
      " ...\n",
      " [255 255 255 ... 255 255 255]\n",
      " [255 255 255 ... 255 255 255]\n",
      " [255 255 255 ... 255 255 255]]\n"
     ]
    }
   ],
   "source": [
    "image_path = 'edinburgh_park.png'\n",
    "grid = image_to_grid(image_path, block_size=5)\n",
    "print(grid)"
   ]
  },
  {
   "cell_type": "code",
   "execution_count": 24,
   "metadata": {},
   "outputs": [
    {
     "data": {
      "text/plain": [
       "(121, 202)"
      ]
     },
     "execution_count": 24,
     "metadata": {},
     "output_type": "execute_result"
    }
   ],
   "source": [
    "grid.shape"
   ]
  },
  {
   "cell_type": "code",
   "execution_count": 25,
   "metadata": {},
   "outputs": [
    {
     "data": {
      "image/png": "[encoded data removed]",
      "text/plain": [
       "<Figure size 640x480 with 1 Axes>"
      ]
     },
     "metadata": {},
     "output_type": "display_data"
    }
   ],
   "source": [
    "from matplotlib.patches import Ellipse\n",
    "\n",
    "plt.imshow(grid, cmap='gray')  # Plot the grid\n",
    "\n",
    "#ellipses parameters: (x_center, y_center, width, height, angle)\n",
    "ellipses = [\n",
    "    (793//5, 367//5, 10, 5, 45),  \n",
    "    (797//5, 170//5, 10, 5, 45), \n",
    "    (816//5, 117//5, 10, 5, 45),\n",
    "    (980//5, 484//5, 10, 5, 45),\n",
    "    (742//5, 100//5, 10, 5, 45),\n",
    "    (770//5, 165//5, 10, 5, 45),\n",
    "    (872//5, 512//5, 10, 5, 45),\n",
    "    (777//5, 508//5, 10, 5, 45),\n",
    "    (844//5, 473//5, 10, 5, 45),\n",
    "    (913//5, 493//5, 10, 5, 45),\n",
    "    (57//5, 91//5, 10, 5, 45),\n",
    "    (42//5, 142//5, 10, 5, 45)\n",
    "]\n",
    "\n",
    "ax = plt.gca() \n",
    "\n",
    "for x, y, width, height, angle in ellipses:\n",
    "    ellipse = Ellipse(xy=(x, y), width=width, height=height, angle=angle, edgecolor='r', fc='None', lw=1)\n",
    "    ax.add_patch(ellipse)\n",
    "\n",
    "plt.axis('off')\n",
    "plt.savefig('garden_check.jpg')\n",
    "plt.show()"
   ]
  },
  {
   "cell_type": "code",
   "execution_count": 16,
   "metadata": {},
   "outputs": [],
   "source": [
    "#save the grid as a json file\n",
    "import json\n",
    "with open(\"park_grid.json\", \"w\") as f:\n",
    "    json.dump(grid.tolist(), f)"
   ]
  },
  {
   "cell_type": "code",
   "execution_count": null,
   "metadata": {},
   "outputs": [],
   "source": []
  }
 ],
 "metadata": {
  "kernelspec": {
   "display_name": "Python 3",
   "language": "python",
   "name": "python3"
  },
  "language_info": {
   "codemirror_mode": {
    "name": "ipython",
    "version": 3
   },
   "file_extension": ".py",
   "mimetype": "text/x-python",
   "name": "python",
   "nbconvert_exporter": "python",
   "pygments_lexer": "ipython3",
   "version": "3.11.9"
  }
 },
 "nbformat": 4,
 "nbformat_minor": 2
}
